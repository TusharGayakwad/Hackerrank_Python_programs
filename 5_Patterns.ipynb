{
 "cells": [
  {
   "cell_type": "code",
   "execution_count": 2,
   "id": "d7df7c66-2404-4060-9829-f798b0e7a7b3",
   "metadata": {},
   "outputs": [
    {
     "name": "stdout",
     "output_type": "stream",
     "text": [
      "* * * * \n",
      "* * * * \n",
      "* * * * \n",
      "* * * * \n"
     ]
    }
   ],
   "source": [
    "# Matrix star patterns\n",
    "\n",
    "for i in range (1 ,5):\n",
    "    for j in range (1 ,5):\n",
    "         print(\"*\", end=\" \")\n",
    "    print()"
   ]
  },
  {
   "cell_type": "code",
   "execution_count": 9,
   "id": "f021ca15-e10b-4553-84e7-55e2b975a658",
   "metadata": {},
   "outputs": [
    {
     "name": "stdin",
     "output_type": "stream",
     "text": [
      "enter the last num: 6\n"
     ]
    },
    {
     "name": "stdout",
     "output_type": "stream",
     "text": [
      "* \n",
      "* * \n",
      "* * * \n",
      "* * * * \n",
      "* * * * * \n",
      "* * * * * * \n"
     ]
    }
   ],
   "source": [
    "#take user input and print the pyramid\n",
    "\n",
    "#a=int(input(\"enter the first num:\"))\n",
    "n=int(input(\"enter the last num:\"))\n",
    "for i in range (1,n+1):\n",
    "    for j in range  (1,n+1):\n",
    "        if j<=i :\n",
    "            print(\"*\",end=\" \")\n",
    "        else:\n",
    "            print(end=\"\")\n",
    "    print()"
   ]
  },
  {
   "cell_type": "code",
   "execution_count": 3,
   "id": "a255feeb-816e-43fd-bec2-363c1bb0a060",
   "metadata": {},
   "outputs": [
    {
     "name": "stdout",
     "output_type": "stream",
     "text": [
      "* * * * \n",
      "* * * \n",
      "* * \n",
      "* \n"
     ]
    }
   ],
   "source": [
    "#Simple pyramid pattern\n",
    "\n",
    "for i in range (1 ,5):\n",
    "    for j in range (1 ,5):\n",
    "        if j>=i:\n",
    "            print(\"*\", end=\" \")\n",
    "        else:\n",
    "            print(\"\",end=\"\")\n",
    "    print()"
   ]
  },
  {
   "cell_type": "code",
   "execution_count": 9,
   "id": "19efd16b-b16f-45b9-8c21-cbad3bc13226",
   "metadata": {},
   "outputs": [
    {
     "name": "stdout",
     "output_type": "stream",
     "text": [
      "* \n",
      "* * \n",
      "* * * \n",
      "* * * * \n",
      "* * * \n",
      "* * \n",
      "* \n"
     ]
    }
   ],
   "source": [
    "#Simple pyramid pattern\n",
    "\n",
    "for i in range (1 ,5):\n",
    "    for j in range (1 ,5):\n",
    "        if j<=i:\n",
    "            print(\"*\", end=\" \")\n",
    "        else:\n",
    "            print(\"\",end=\"\")\n",
    "    print()\n",
    "for i in range (1 ,4):\n",
    "    for j in range (1 ,4):\n",
    "        if j>=i:\n",
    "            print(\"*\", end=\" \")\n",
    "        else:\n",
    "            print(\"\",end=\"\")\n",
    "    print()"
   ]
  },
  {
   "cell_type": "code",
   "execution_count": 1,
   "id": "46b505e7-cdfb-4b3a-86d0-6ebfcddb00ec",
   "metadata": {},
   "outputs": [
    {
     "name": "stdout",
     "output_type": "stream",
     "text": [
      "1     \n",
      "2 2    \n",
      "3 3 3   \n",
      "4 4 4 4  \n",
      "5 5 5 5 5 \n"
     ]
    }
   ],
   "source": [
    "#Pyramid Number printing Pattern\n",
    "\n",
    "for  i in range (1 , 6):\n",
    "    for j in range (1 ,6):\n",
    "        if j<=i:\n",
    "            print(i,end=\" \")\n",
    "        else:\n",
    "            print(end=\" \")\n",
    "    print()\n"
   ]
  },
  {
   "cell_type": "code",
   "execution_count": 4,
   "id": "48e2f292-9d8a-48bf-9537-7ebba0e1405e",
   "metadata": {},
   "outputs": [
    {
     "name": "stdout",
     "output_type": "stream",
     "text": [
      "1 1 1 1 1 \n",
      " 2 2 2 2 \n",
      "  3 3 3 \n",
      "   4 4 \n",
      "    5 \n"
     ]
    }
   ],
   "source": [
    "#Pyramid Number printing Pattern\n",
    "\n",
    "for  i in range (1 , 6):\n",
    "    for j in range (1 ,6):\n",
    "        if j>=i:\n",
    "            print(i,end=\" \")\n",
    "        else:\n",
    "            print(end=\" \")\n",
    "    print()\n",
    "    "
   ]
  },
  {
   "cell_type": "code",
   "execution_count": 6,
   "id": "87408174-15a9-4764-9bfd-0c99cd905859",
   "metadata": {},
   "outputs": [
    {
     "name": "stdout",
     "output_type": "stream",
     "text": [
      "1 1 1 1 1 \n",
      "2 2 2 2 \n",
      "3 3 3 \n",
      "4 4 \n",
      "5 \n"
     ]
    }
   ],
   "source": [
    "#Pyramid Number printing Pattern\n",
    "\n",
    "for  i in range (1 , 6):\n",
    "    for j in range (1 ,6):\n",
    "        if j>=i:\n",
    "            print(i,end=\" \")\n",
    "        else:\n",
    "            print(end=\"\")\n",
    "    print()\n",
    "    "
   ]
  },
  {
   "cell_type": "code",
   "execution_count": 7,
   "id": "dc519779-fef3-499a-9918-2a720f7d04b9",
   "metadata": {},
   "outputs": [
    {
     "name": "stdout",
     "output_type": "stream",
     "text": [
      "A \n",
      "B B \n",
      "C C C \n",
      "D D D D \n",
      "E E E E E \n",
      "F F F F F F \n"
     ]
    }
   ],
   "source": [
    "#Pyramid Number printing Pattern\n",
    "\n",
    "for  i in range (65, 71):\n",
    "    for j in range (65 ,71):\n",
    "        if j<=i:\n",
    "            print(chr(i),end=\" \")\n",
    "        else:\n",
    "            print(end=\"\")\n",
    "    print()\n"
   ]
  },
  {
   "cell_type": "code",
   "execution_count": 10,
   "id": "5d1a91e3-5a97-4c6e-9d46-f4fb91a7ec00",
   "metadata": {},
   "outputs": [
    {
     "name": "stdout",
     "output_type": "stream",
     "text": [
      "* \n",
      "* * \n",
      "* * * \n",
      "* * * * \n",
      "* * * * * \n"
     ]
    }
   ],
   "source": [
    "#Print pattern with the help of Reccurtion\n",
    "\n",
    "def pypart(n):\n",
    "    if n==0:\n",
    "        return\n",
    "    else:\n",
    "        pypart(n-1)\n",
    "        print(\"* \"*n)\n",
    "n=5\n",
    "pypart(n)"
   ]
  },
  {
   "cell_type": "code",
   "execution_count": 11,
   "id": "949afaa2-08e4-4439-ab15-708d369c2581",
   "metadata": {},
   "outputs": [
    {
     "name": "stdout",
     "output_type": "stream",
     "text": [
      "A \n",
      "B B \n",
      "C C C \n",
      "D D D D \n",
      "E E E E E \n",
      "F F F F F F \n"
     ]
    }
   ],
   "source": [
    "#Pyramid Number printing Pattern\n",
    "\n",
    "\n",
    "for  i in range (65, 71):\n",
    "    for j in range (65 ,71):\n",
    "        if j<=i:\n",
    "            print(chr(i),end=\" \")\n",
    "        else:\n",
    "            print(end=\"\")\n",
    "    print()\n"
   ]
  },
  {
   "cell_type": "code",
   "execution_count": 12,
   "id": "a2a52f25-abaa-4df1-a4aa-f79398a82584",
   "metadata": {},
   "outputs": [
    {
     "name": "stdout",
     "output_type": "stream",
     "text": [
      "    * \n",
      "   * * \n",
      "  * * * \n",
      " * * * * \n",
      "* * * * * \n"
     ]
    }
   ],
   "source": [
    "#Simple pyramid pattern\n",
    "\n",
    "for i in range (1,6):\n",
    "    for j in range (1,6):\n",
    "        if j >=6-i:\n",
    "            print(\"*\",end=\" \")\n",
    "        else :\n",
    "            print(\" \",end=\"\")\n",
    "    print()"
   ]
  },
  {
   "cell_type": "code",
   "execution_count": 34,
   "id": "8d162f9a-d858-49fe-a4f2-025f3ee660a2",
   "metadata": {},
   "outputs": [
    {
     "name": "stdout",
     "output_type": "stream",
     "text": [
      "A A A * A A A \n",
      "A A * * * A A \n",
      "A * * * * * A \n",
      "* * * * * * * \n"
     ]
    }
   ],
   "source": [
    "#Simple pyramid pattern\n",
    "\n",
    "for i in range(1,5):\n",
    "    for j in range(1,8):\n",
    "        if j>=5-i and j<=3+i:\n",
    "            print(\"*\",end=\" \")\n",
    "        else:\n",
    "            print(\"A\" ,end=\" \")\n",
    "    print()"
   ]
  },
  {
   "cell_type": "code",
   "execution_count": 6,
   "id": "cbb8b4b9-0690-4eed-b77f-9ee9e0647763",
   "metadata": {},
   "outputs": [
    {
     "name": "stdout",
     "output_type": "stream",
     "text": [
      "*****\n",
      "**** \n",
      "***  \n",
      "**   \n",
      "*    \n"
     ]
    }
   ],
   "source": [
    "#Simple pyramid pattern\n",
    "\n",
    "for i in range (1,6):\n",
    "    for j in range (1,6):\n",
    "        if j <=6-i:\n",
    "            print(\"*\",end=\"\")\n",
    "        else :\n",
    "            print(\" \",end=\"\")\n",
    "    print()"
   ]
  },
  {
   "cell_type": "code",
   "execution_count": 15,
   "id": "07ab180a-245d-47df-90f9-de7ffb89bd17",
   "metadata": {},
   "outputs": [
    {
     "name": "stdout",
     "output_type": "stream",
     "text": [
      "        *\n",
      "      **\n",
      "    ***\n",
      "  ****\n",
      "*****\n"
     ]
    }
   ],
   "source": [
    "#Simple pyramid pattern\n",
    "\n",
    "for i in range(1,6):\n",
    "    for j in range(1,6):\n",
    "        if j >= 6-i:\n",
    "            print(\"*\",end=\"\")\n",
    "        else:\n",
    "            print(\" \",end=\" \")\n",
    "    print()"
   ]
  },
  {
   "cell_type": "code",
   "execution_count": 35,
   "id": "19c39a49-93bf-48b8-9976-f173e6802c23",
   "metadata": {},
   "outputs": [
    {
     "name": "stdout",
     "output_type": "stream",
     "text": [
      "* A B C \n",
      "* * B C \n",
      "* * * C \n",
      "* * * * \n"
     ]
    }
   ],
   "source": [
    "#Simple pyramid pattern\n",
    "\n",
    "for i in range (1 ,5):\n",
    "    for j in range (1 ,5):\n",
    "        if j<=i:\n",
    "            print(\"*\", end=\" \")\n",
    "        else:\n",
    "            l=63+j\n",
    "            print(chr(l),end=\" \")\n",
    "    print()"
   ]
  },
  {
   "cell_type": "code",
   "execution_count": 16,
   "id": "3daf9bd6-4d4c-4ebb-9c0c-da3940b1bfdb",
   "metadata": {},
   "outputs": [
    {
     "name": "stdout",
     "output_type": "stream",
     "text": [
      "1 \n",
      "1 2 \n",
      "1 2 3 \n",
      "1 2 3 4 \n",
      "1 2 3 4 5 \n"
     ]
    }
   ],
   "source": [
    "#Pyramid Number printing Pattern\n",
    "#ass_1\n",
    "\n",
    "for  i in range (1 , 6):\n",
    "    for j in range (1 ,6):\n",
    "        if j<=i:\n",
    "            print(j,end=\" \")\n",
    "        else:\n",
    "            print(end=\"\")\n",
    "    print()\n"
   ]
  },
  {
   "cell_type": "code",
   "execution_count": 17,
   "id": "25071da2-2064-49d5-b008-6b02bf8eb3b1",
   "metadata": {},
   "outputs": [
    {
     "name": "stdout",
     "output_type": "stream",
     "text": [
      "1 \n",
      "2 2 \n",
      "3 3 3 \n",
      "4 4 4 4 \n",
      "5 5 5 5 5 \n"
     ]
    }
   ],
   "source": [
    "#Pyramid Number printing Pattern\n",
    "#ass_2\n",
    "\n",
    "for  i in range (1 , 6):\n",
    "    for j in range (1 ,6):\n",
    "        if j<=i:\n",
    "            print(i,end=\" \")\n",
    "        else:\n",
    "            print(end=\"\")\n",
    "    print()\n"
   ]
  },
  {
   "cell_type": "code",
   "execution_count": 18,
   "id": "beaafa3f-475c-42dd-b0d9-9a6db48656de",
   "metadata": {},
   "outputs": [
    {
     "name": "stdout",
     "output_type": "stream",
     "text": [
      "5 \n",
      "5 4 \n",
      "5 4 3 \n",
      "5 4 3 2 \n",
      "5 4 3 2 1 \n"
     ]
    }
   ],
   "source": [
    "#Pyramid Number printing Pattern\n",
    "#ass_3\n",
    "\n",
    "for  i in range (1 , 6):\n",
    "    for j in range (1 ,6):\n",
    "        if j<=i:\n",
    "            print(6-j,end=\" \")\n",
    "        else:\n",
    "            print(end=\"\")\n",
    "    print()\n"
   ]
  },
  {
   "cell_type": "code",
   "execution_count": 19,
   "id": "9b300b00-30dd-411d-b2fe-a7796a017ea7",
   "metadata": {},
   "outputs": [
    {
     "name": "stdout",
     "output_type": "stream",
     "text": [
      "5 \n",
      "4 4 \n",
      "3 3 3 \n",
      "2 2 2 2 \n",
      "1 1 1 1 1 \n"
     ]
    }
   ],
   "source": [
    "#Pyramid Number printing Pattern\n",
    "\n",
    "for  i in range (1 , 6):\n",
    "    for j in range (1 ,6):\n",
    "        if j<=i:\n",
    "            print(6-i,end=\" \")\n",
    "        else:\n",
    "            print(end=\"\")\n",
    "    print()\n"
   ]
  },
  {
   "cell_type": "code",
   "execution_count": 20,
   "id": "9e32e485-1217-4e9d-9394-cc45dd31c987",
   "metadata": {},
   "outputs": [
    {
     "name": "stdout",
     "output_type": "stream",
     "text": [
      "1 2 3 4 5 \n",
      "2 3 4 5 \n",
      "3 4 5 \n",
      "4 5 \n",
      "5 \n"
     ]
    }
   ],
   "source": [
    "#Pyramid Number printing Pattern\n",
    "\n",
    "for  i in range (1 , 6):\n",
    "    for j in range (1 ,6):\n",
    "        if j>=i:\n",
    "            print(j,end=\" \")\n",
    "        else:\n",
    "            print(end=\"\")\n",
    "    print()\n"
   ]
  },
  {
   "cell_type": "code",
   "execution_count": 21,
   "id": "f52bb5c7-6ad5-4046-afb8-9b87e22d913a",
   "metadata": {},
   "outputs": [
    {
     "name": "stdout",
     "output_type": "stream",
     "text": [
      "5 5 5 5 5 \n",
      "4 4 4 4 \n",
      "3 3 3 \n",
      "2 2 \n",
      "1 \n"
     ]
    }
   ],
   "source": [
    "#Pyramid Number printing Pattern\n",
    "\n",
    "for  i in range (1 , 6):\n",
    "    for j in range (1 ,6):\n",
    "        if j>=i:\n",
    "            print(6-i,end=\" \")\n",
    "        else: \n",
    "            print(end=\"\")\n",
    "    print()\n"
   ]
  },
  {
   "cell_type": "code",
   "execution_count": 22,
   "id": "7f0a485e-2165-4cc3-9c12-286dc3186c22",
   "metadata": {},
   "outputs": [
    {
     "name": "stdout",
     "output_type": "stream",
     "text": [
      "5 4 3 2 1 \n",
      "4 3 2 1 \n",
      "3 2 1 \n",
      "2 1 \n",
      "1 \n"
     ]
    }
   ],
   "source": [
    "#Pyramid Number printing Pattern\n",
    "\n",
    "for  i in range (1 , 6):\n",
    "    for j in range (1 ,6):\n",
    "        if j>=i:\n",
    "            print(6-j,end=\" \")\n",
    "        else: \n",
    "            print(end=\"\")\n",
    "    print()\n"
   ]
  },
  {
   "cell_type": "code",
   "execution_count": 23,
   "id": "7948996c-f88a-4337-8310-8a6a665a3734",
   "metadata": {},
   "outputs": [
    {
     "name": "stdout",
     "output_type": "stream",
     "text": [
      "A \n",
      "A B \n",
      "A B C \n",
      "A B C D \n",
      "A B C D E \n",
      "A B C D E F \n"
     ]
    }
   ],
   "source": [
    "#Pyramid Number printing Pattern\n",
    "\n",
    "for  i in range (65, 71):\n",
    "    for j in range (65 ,71):\n",
    "        if j<=i:\n",
    "            print(chr(j),end=\" \")\n",
    "        else: \n",
    "            print(end=\"\")\n",
    "    print()\n"
   ]
  },
  {
   "cell_type": "code",
   "execution_count": 24,
   "id": "9e531072-9c6e-401e-8688-4a942381c048",
   "metadata": {},
   "outputs": [
    {
     "name": "stdout",
     "output_type": "stream",
     "text": [
      "A \n",
      "B B \n",
      "C C C \n",
      "D D D D \n",
      "E E E E E \n",
      "F F F F F F \n"
     ]
    }
   ],
   "source": [
    "#Pyramid Number printing Pattern\n",
    "\n",
    "for  i in range (65, 71):\n",
    "    for j in range (65 ,71):\n",
    "        if j<=i:\n",
    "            print(chr(i),end=\" \")\n",
    "        else: \n",
    "            print(end=\"\")\n",
    "    print()\n"
   ]
  },
  {
   "cell_type": "code",
   "execution_count": 25,
   "id": "6ad323e6-ceb1-49b0-9801-ace09082f0e8",
   "metadata": {},
   "outputs": [
    {
     "name": "stdout",
     "output_type": "stream",
     "text": [
      "      *       \n",
      "    * * *     \n",
      "  * * * * *   \n",
      "* * * * * * * \n"
     ]
    }
   ],
   "source": [
    "#Star Pattern printing triangle \n",
    "\n",
    "for i in range(1,5):\n",
    "    for j in range(1,8):\n",
    "        if j>=5-i and j<=3+i:\n",
    "            print(\"*\",end=\" \")\n",
    "        else :\n",
    "            print(\" \" ,end=\" \")\n",
    "    print()"
   ]
  },
  {
   "cell_type": "code",
   "execution_count": 26,
   "id": "7200715b-29cc-40a0-8779-4665d06d5d8e",
   "metadata": {},
   "outputs": [
    {
     "name": "stdout",
     "output_type": "stream",
     "text": [
      "E \n",
      "D D \n",
      "C C C \n",
      "B B B B \n",
      "A A A A A \n"
     ]
    }
   ],
   "source": [
    "#Pyramid Number printing Pattern\n",
    "\n",
    "for  i in range (65 , 70):\n",
    "    for j in range (65,70):\n",
    "        if j<=i:\n",
    "            print(chr(134-i),end=\" \")\n",
    "        else:\n",
    "            print(end=\"\")\n",
    "    print()\n"
   ]
  },
  {
   "cell_type": "code",
   "execution_count": 27,
   "id": "876355ba-2a45-4843-8c59-b934dd4340f8",
   "metadata": {},
   "outputs": [
    {
     "name": "stdout",
     "output_type": "stream",
     "text": [
      "E \n",
      "E D \n",
      "E D C \n",
      "E D C B \n",
      "E D C B A \n"
     ]
    }
   ],
   "source": [
    "#Pyramid Number printing Pattern\n",
    "\n",
    "for  i in range (65 , 70):\n",
    "    for j in range (65,70):\n",
    "        if j<=i:\n",
    "            print(chr(134-j),end=\" \")\n",
    "        else:\n",
    "            print(end=\"\")\n",
    "    print()\n"
   ]
  },
  {
   "cell_type": "code",
   "execution_count": 28,
   "id": "71681ec1-24cd-4472-b544-896e159e26ba",
   "metadata": {},
   "outputs": [
    {
     "name": "stdout",
     "output_type": "stream",
     "text": [
      "E E E E E \n",
      "D D D D \n",
      "C C C \n",
      "B B \n",
      "A \n"
     ]
    }
   ],
   "source": [
    "#Pyramid Number printing Pattern\n",
    "\n",
    "for  i in range (65 , 70):\n",
    "    for j in range (65,70):\n",
    "        if j>=i:\n",
    "            print(chr(134-i),end=\" \")\n",
    "        else:\n",
    "            print(end=\"\")\n",
    "    print()\n"
   ]
  },
  {
   "cell_type": "code",
   "execution_count": 29,
   "id": "c9b4a7c4-3dde-4ace-b966-312f04e704aa",
   "metadata": {},
   "outputs": [
    {
     "name": "stdout",
     "output_type": "stream",
     "text": [
      "E D C B A \n",
      "D C B A \n",
      "C B A \n",
      "B A \n",
      "A \n"
     ]
    }
   ],
   "source": [
    "#Pyramid Number printing Pattern\n",
    "\n",
    "for  i in range (65 , 70):\n",
    "    for j in range (65,70):\n",
    "        if j>=i:\n",
    "            print(chr(134-j),end=\" \")\n",
    "        else:\n",
    "            print(end=\"\")\n",
    "    print()\n"
   ]
  },
  {
   "cell_type": "code",
   "execution_count": null,
   "id": "30b3d92a-a304-43fc-a4e1-803bf50c810f",
   "metadata": {},
   "outputs": [],
   "source": []
  }
 ],
 "metadata": {
  "kernelspec": {
   "display_name": "Python 3 (ipykernel)",
   "language": "python",
   "name": "python3"
  },
  "language_info": {
   "codemirror_mode": {
    "name": "ipython",
    "version": 3
   },
   "file_extension": ".py",
   "mimetype": "text/x-python",
   "name": "python",
   "nbconvert_exporter": "python",
   "pygments_lexer": "ipython3",
   "version": "3.9.12"
  }
 },
 "nbformat": 4,
 "nbformat_minor": 5
}
